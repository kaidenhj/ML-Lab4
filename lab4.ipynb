{
 "cells": [
  {
   "cell_type": "code",
   "execution_count": 3,
   "id": "d5e9bdd3-8673-4f3e-a6b7-4ce3baf1bd23",
   "metadata": {},
   "outputs": [],
   "source": [
    "import tensorflow as tf\n",
    "import pandas as pd"
   ]
  },
  {
   "cell_type": "code",
   "execution_count": 15,
   "id": "fc103035-3972-4698-9e16-7b64af08972e",
   "metadata": {},
   "outputs": [
    {
     "name": "stdout",
     "output_type": "stream",
     "text": [
      "                song_name artist_name\n",
      "0            All Mixed Up         311\n",
      "1       Don't Tread On Me         311\n",
      "2      Beautiful Disaster         311\n",
      "3               Backfired         408\n",
      "4                   Manic         408\n",
      "...                   ...         ...\n",
      "9995          Purple Haze  ZEKE BEATS\n",
      "9996             BABABASS  ZEKE BEATS\n",
      "9997  money so big (fast)      Zephyr\n",
      "9998        Time Lonesome      Zephyr\n",
      "9999      Someone to Chew      Zephyr\n",
      "\n",
      "[10000 rows x 2 columns]\n"
     ]
    }
   ],
   "source": [
    "df = pd.read_csv('/Users/kaidenjones/Desktop/localify_lab4_data.tsv', sep='\\t')\n",
    "label_df = df[['song_name','artist_name']]\n",
    "X_df = df[['acousticness','danceability','energy','instrumentalness','liveness','loudness','speechiness','tempo','valence']]\n",
    "y_df = df[['genre_name','Unnamed: 12']]\n",
    "\n",
    "# type(df)\n",
    "# print(df)\n",
    "print(label_df)\n",
    "# print(X_df)\n",
    "# print(y_df)\n"
   ]
  },
  {
   "cell_type": "code",
   "execution_count": null,
   "id": "eedb0092-9a57-4e16-99a5-b98ba90a9262",
   "metadata": {},
   "outputs": [],
   "source": []
  }
 ],
 "metadata": {
  "kernelspec": {
   "display_name": "Python 3 (ipykernel)",
   "language": "python",
   "name": "python3"
  },
  "language_info": {
   "codemirror_mode": {
    "name": "ipython",
    "version": 3
   },
   "file_extension": ".py",
   "mimetype": "text/x-python",
   "name": "python",
   "nbconvert_exporter": "python",
   "pygments_lexer": "ipython3",
   "version": "3.12.4"
  }
 },
 "nbformat": 4,
 "nbformat_minor": 5
}
