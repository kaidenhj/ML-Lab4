{
 "cells": [
  {
   "cell_type": "code",
   "execution_count": 1,
   "id": "d5e9bdd3-8673-4f3e-a6b7-4ce3baf1bd23",
   "metadata": {},
   "outputs": [
    {
     "ename": "ModuleNotFoundError",
     "evalue": "No module named 'torch'",
     "output_type": "error",
     "traceback": [
      "\u001b[0;31m---------------------------------------------------------------------------\u001b[0m",
      "\u001b[0;31mModuleNotFoundError\u001b[0m                       Traceback (most recent call last)",
      "Cell \u001b[0;32mIn[1], line 3\u001b[0m\n\u001b[1;32m      1\u001b[0m \u001b[38;5;28;01mimport\u001b[39;00m \u001b[38;5;21;01mtensorflow\u001b[39;00m \u001b[38;5;28;01mas\u001b[39;00m \u001b[38;5;21;01mtf\u001b[39;00m\n\u001b[1;32m      2\u001b[0m \u001b[38;5;28;01mimport\u001b[39;00m \u001b[38;5;21;01mnumpy\u001b[39;00m \u001b[38;5;28;01mas\u001b[39;00m \u001b[38;5;21;01mnp\u001b[39;00m\n\u001b[0;32m----> 3\u001b[0m \u001b[38;5;28;01mimport\u001b[39;00m \u001b[38;5;21;01mtorch\u001b[39;00m\n\u001b[1;32m      4\u001b[0m \u001b[38;5;28;01mfrom\u001b[39;00m \u001b[38;5;21;01mtensorflow\u001b[39;00m\u001b[38;5;21;01m.\u001b[39;00m\u001b[38;5;21;01mkeras\u001b[39;00m \u001b[38;5;28;01mimport\u001b[39;00m Sequential\n\u001b[1;32m      5\u001b[0m \u001b[38;5;28;01mfrom\u001b[39;00m \u001b[38;5;21;01mtensorflow\u001b[39;00m\u001b[38;5;21;01m.\u001b[39;00m\u001b[38;5;21;01mkeras\u001b[39;00m\u001b[38;5;21;01m.\u001b[39;00m\u001b[38;5;21;01mlayers\u001b[39;00m \u001b[38;5;28;01mimport\u001b[39;00m Dense\n",
      "\u001b[0;31mModuleNotFoundError\u001b[0m: No module named 'torch'"
     ]
    }
   ],
   "source": [
    "import tensorflow as tf\n",
    "import numpy as np\n",
    "import torch\n",
    "from tensorflow.keras import Sequential\n",
    "from tensorflow.keras.layers import Dense\n",
    "from tensorflow.keras.losses import SparseCategoricalCrossentropy\n",
    "import pandas as pd"
   ]
  },
  {
   "cell_type": "code",
   "execution_count": 49,
   "id": "fc103035-3972-4698-9e16-7b64af08972e",
   "metadata": {},
   "outputs": [
    {
     "ename": "NameError",
     "evalue": "name 'torch' is not defined",
     "output_type": "error",
     "traceback": [
      "\u001b[0;31m---------------------------------------------------------------------------\u001b[0m",
      "\u001b[0;31mNameError\u001b[0m                                 Traceback (most recent call last)",
      "Cell \u001b[0;32mIn[49], line 19\u001b[0m\n\u001b[1;32m     16\u001b[0m tensor_training_X \u001b[38;5;241m=\u001b[39m tf\u001b[38;5;241m.\u001b[39mconvert_to_tensor(training_X_df)\n\u001b[1;32m     17\u001b[0m training_y_df \u001b[38;5;241m=\u001b[39m df_training[[\u001b[38;5;124m'\u001b[39m\u001b[38;5;124mgenre_name\u001b[39m\u001b[38;5;124m'\u001b[39m,\u001b[38;5;124m'\u001b[39m\u001b[38;5;124mUnnamed: 12\u001b[39m\u001b[38;5;124m'\u001b[39m]]\n\u001b[0;32m---> 19\u001b[0m tensor_training_y \u001b[38;5;241m=\u001b[39m torch\u001b[38;5;241m.\u001b[39mempty(\u001b[38;5;241m2\u001b[39m, \u001b[38;5;241m2000\u001b[39m)\n\u001b[1;32m     20\u001b[0m tensor_training_y[[\u001b[38;5;124m'\u001b[39m\u001b[38;5;124mgenre_name\u001b[39m\u001b[38;5;124m'\u001b[39m]] \u001b[38;5;241m=\u001b[39m tf\u001b[38;5;241m.\u001b[39mconvert_to_tensor(training_y_df[[\u001b[38;5;124m'\u001b[39m\u001b[38;5;124mgenre_name\u001b[39m\u001b[38;5;124m'\u001b[39m]])\n\u001b[1;32m     21\u001b[0m tensor_training_y[[\u001b[38;5;124m'\u001b[39m\u001b[38;5;124mUnnamed: 12\u001b[39m\u001b[38;5;124m'\u001b[39m]] \u001b[38;5;241m=\u001b[39m tf\u001b[38;5;241m.\u001b[39mconvert_to_tensor(training_y_df[[\u001b[38;5;124m'\u001b[39m\u001b[38;5;124mUnnamed: 12\u001b[39m\u001b[38;5;124m'\u001b[39m]], dtype\u001b[38;5;241m=\u001b[39mtf\u001b[38;5;241m.\u001b[39mfloat32)\n",
      "\u001b[0;31mNameError\u001b[0m: name 'torch' is not defined"
     ]
    }
   ],
   "source": [
    "# reads the data from the file\n",
    "df = pd.read_csv('/Users/kaidenjones/Desktop/localify_lab4_data.tsv', sep='\\t')\n",
    "\n",
    "#df = df.astype(np.float32)\n",
    "# df[['Unnamed: 12']] = df[['Unnamed: 12']].astype(tf.float32)\n",
    "# print(df[['Unnamed: 12']].dtype)x\n",
    "\n",
    "# Slpits the data into training and validation data\n",
    "df_training = df.iloc[:8000]\n",
    "df_validation = df.iloc[8000:]\n",
    "\n",
    "# spit the data into labels, X, y\n",
    "training_label_df = df_training[['song_name','artist_name']]\n",
    "tensor_label = tf.convert_to_tensor(training_label_df)\n",
    "training_X_df = df_training[['acousticness','danceability','energy','instrumentalness','liveness','loudness','speechiness','tempo','valence']]\n",
    "tensor_training_X = tf.convert_to_tensor(training_X_df)\n",
    "training_y_df = df_training[['genre_name','Unnamed: 12']]\n",
    "\n",
    "tensor_training_y = torch.empty(2, 2000)\n",
    "tensor_training_y[['genre_name']] = tf.convert_to_tensor(training_y_df[['genre_name']])\n",
    "tensor_training_y[['Unnamed: 12']] = tf.convert_to_tensor(training_y_df[['Unnamed: 12']], dtype=tf.float32)\n",
    "\n",
    "validation_label_df = df_validation[['song_name','artist_name']]\n",
    "validation_X_df = df_validation[['acousticness','danceability','energy','instrumentalness','liveness','loudness','speechiness','tempo','valence']]\n",
    "validation_y_df = df_validation[['genre_name','Unnamed: 12']]\n",
    "\n",
    "\n",
    "# type(df)\n",
    "# print(df)\n",
    "# print(training_label_df)\n",
    "# print(training_X_df)\n",
    "# print(training_y_df)\n",
    "\n",
    "# print(validation_label_df)\n",
    "# print(validation_X_df)\n",
    "# print(validation_y_df)\n"
   ]
  },
  {
   "cell_type": "code",
   "execution_count": 24,
   "id": "eedb0092-9a57-4e16-99a5-b98ba90a9262",
   "metadata": {},
   "outputs": [],
   "source": [
    "# Model archecture\n",
    "model = Sequential([\n",
    "    Dense(units=25, activation=\"relu\"),\n",
    "    Dense(units=15, activation=\"relu\"),\n",
    "    Dense(units=10 , activation=\"linear\")])"
   ]
  },
  {
   "cell_type": "code",
   "execution_count": 25,
   "id": "3572bdc1-9927-419d-844c-8298ee9af299",
   "metadata": {},
   "outputs": [],
   "source": [
    "# gets the loss\n",
    "model.compile(optimizer='sgd', loss=SparseCategoricalCrossentropy(from_logits = True))"
   ]
  },
  {
   "cell_type": "code",
   "execution_count": 26,
   "id": "c7e6af4a-c830-4246-90e3-de4494483968",
   "metadata": {},
   "outputs": [
    {
     "ename": "ValueError",
     "evalue": "Failed to convert a NumPy array to a Tensor (Unsupported object type int).",
     "output_type": "error",
     "traceback": [
      "\u001b[0;31m---------------------------------------------------------------------------\u001b[0m",
      "\u001b[0;31mValueError\u001b[0m                                Traceback (most recent call last)",
      "Cell \u001b[0;32mIn[26], line 2\u001b[0m\n\u001b[1;32m      1\u001b[0m \u001b[38;5;66;03m# makes the model fit\u001b[39;00m\n\u001b[0;32m----> 2\u001b[0m model\u001b[38;5;241m.\u001b[39mfit(training_X_df, training_y_df, epochs\u001b[38;5;241m=\u001b[39m\u001b[38;5;241m100\u001b[39m)\n",
      "File \u001b[0;32m/opt/anaconda3/envs/ml/lib/python3.12/site-packages/keras/src/utils/traceback_utils.py:122\u001b[0m, in \u001b[0;36mfilter_traceback.<locals>.error_handler\u001b[0;34m(*args, **kwargs)\u001b[0m\n\u001b[1;32m    119\u001b[0m     filtered_tb \u001b[38;5;241m=\u001b[39m _process_traceback_frames(e\u001b[38;5;241m.\u001b[39m__traceback__)\n\u001b[1;32m    120\u001b[0m     \u001b[38;5;66;03m# To get the full stack trace, call:\u001b[39;00m\n\u001b[1;32m    121\u001b[0m     \u001b[38;5;66;03m# `keras.config.disable_traceback_filtering()`\u001b[39;00m\n\u001b[0;32m--> 122\u001b[0m     \u001b[38;5;28;01mraise\u001b[39;00m e\u001b[38;5;241m.\u001b[39mwith_traceback(filtered_tb) \u001b[38;5;28;01mfrom\u001b[39;00m \u001b[38;5;28;01mNone\u001b[39;00m\n\u001b[1;32m    123\u001b[0m \u001b[38;5;28;01mfinally\u001b[39;00m:\n\u001b[1;32m    124\u001b[0m     \u001b[38;5;28;01mdel\u001b[39;00m filtered_tb\n",
      "File \u001b[0;32m/opt/anaconda3/envs/ml/lib/python3.12/site-packages/tensorflow/python/framework/constant_op.py:108\u001b[0m, in \u001b[0;36mconvert_to_eager_tensor\u001b[0;34m(value, ctx, dtype)\u001b[0m\n\u001b[1;32m    106\u001b[0m     dtype \u001b[38;5;241m=\u001b[39m dtypes\u001b[38;5;241m.\u001b[39mas_dtype(dtype)\u001b[38;5;241m.\u001b[39mas_datatype_enum\n\u001b[1;32m    107\u001b[0m ctx\u001b[38;5;241m.\u001b[39mensure_initialized()\n\u001b[0;32m--> 108\u001b[0m \u001b[38;5;28;01mreturn\u001b[39;00m ops\u001b[38;5;241m.\u001b[39mEagerTensor(value, ctx\u001b[38;5;241m.\u001b[39mdevice_name, dtype)\n",
      "\u001b[0;31mValueError\u001b[0m: Failed to convert a NumPy array to a Tensor (Unsupported object type int)."
     ]
    }
   ],
   "source": [
    "# makes the model fit\n",
    "model.fit(training_X_df, training_y_df, epochs=100)"
   ]
  },
  {
   "cell_type": "code",
   "execution_count": null,
   "id": "77121169-8926-4477-a338-9101dd3e309f",
   "metadata": {},
   "outputs": [],
   "source": [
    "# gets the predictions of the model\n",
    "logits = model(X)\n",
    "f_x = tf.nn.softmax(logits)"
   ]
  }
 ],
 "metadata": {
  "kernelspec": {
   "display_name": "Python 3 (ipykernel)",
   "language": "python",
   "name": "python3"
  },
  "language_info": {
   "codemirror_mode": {
    "name": "ipython",
    "version": 3
   },
   "file_extension": ".py",
   "mimetype": "text/x-python",
   "name": "python",
   "nbconvert_exporter": "python",
   "pygments_lexer": "ipython3",
   "version": "3.12.4"
  }
 },
 "nbformat": 4,
 "nbformat_minor": 5
}
